{
 "cells": [
  {
   "cell_type": "code",
   "execution_count": 1,
   "metadata": {},
   "outputs": [
    {
     "name": "stderr",
     "output_type": "stream",
     "text": [
      "Using TensorFlow backend.\n"
     ]
    }
   ],
   "source": [
    "import warnings\n",
    "\n",
    "# imports\n",
    "import numpy as np\n",
    "from keras.layers import Dense\n",
    "from keras.models import Model, Sequential\n",
    "from keras.utils import np_utils\n",
    "\n",
    "warnings.filterwarnings(\"ignore\")\n",
    "\n",
    "np.random.seed(23)"
   ]
  },
  {
   "cell_type": "code",
   "execution_count": 2,
   "metadata": {},
   "outputs": [
    {
     "data": {
      "text/plain": [
       "[1,\n",
       " 2,\n",
       " 'Fizz',\n",
       " 4,\n",
       " 'Buzz',\n",
       " 'Fizz',\n",
       " 7,\n",
       " 8,\n",
       " 'Fizz',\n",
       " 'Buzz',\n",
       " 11,\n",
       " 'Fizz',\n",
       " 13,\n",
       " 14,\n",
       " 'FizzBuzz',\n",
       " 16,\n",
       " 17,\n",
       " 'Fizz',\n",
       " 19,\n",
       " 'Buzz',\n",
       " 'Fizz',\n",
       " 22,\n",
       " 23,\n",
       " 'Fizz',\n",
       " 'Buzz',\n",
       " 26,\n",
       " 'Fizz',\n",
       " 28,\n",
       " 29,\n",
       " 'FizzBuzz',\n",
       " 31,\n",
       " 32,\n",
       " 'Fizz',\n",
       " 34,\n",
       " 'Buzz',\n",
       " 'Fizz',\n",
       " 37,\n",
       " 38,\n",
       " 'Fizz',\n",
       " 'Buzz',\n",
       " 41,\n",
       " 'Fizz',\n",
       " 43,\n",
       " 44,\n",
       " 'FizzBuzz',\n",
       " 46,\n",
       " 47,\n",
       " 'Fizz',\n",
       " 49,\n",
       " 'Buzz',\n",
       " 'Fizz',\n",
       " 52,\n",
       " 53,\n",
       " 'Fizz',\n",
       " 'Buzz',\n",
       " 56,\n",
       " 'Fizz',\n",
       " 58,\n",
       " 59,\n",
       " 'FizzBuzz',\n",
       " 61,\n",
       " 62,\n",
       " 'Fizz',\n",
       " 64,\n",
       " 'Buzz',\n",
       " 'Fizz',\n",
       " 67,\n",
       " 68,\n",
       " 'Fizz',\n",
       " 'Buzz',\n",
       " 71,\n",
       " 'Fizz',\n",
       " 73,\n",
       " 74,\n",
       " 'FizzBuzz',\n",
       " 76,\n",
       " 77,\n",
       " 'Fizz',\n",
       " 79,\n",
       " 'Buzz',\n",
       " 'Fizz',\n",
       " 82,\n",
       " 83,\n",
       " 'Fizz',\n",
       " 'Buzz',\n",
       " 86,\n",
       " 'Fizz',\n",
       " 88,\n",
       " 89,\n",
       " 'FizzBuzz',\n",
       " 91,\n",
       " 92,\n",
       " 'Fizz',\n",
       " 94,\n",
       " 'Buzz',\n",
       " 'Fizz',\n",
       " 97,\n",
       " 98,\n",
       " 'Fizz',\n",
       " 'Buzz']"
      ]
     },
     "execution_count": 2,
     "metadata": {},
     "output_type": "execute_result"
    }
   ],
   "source": [
    "def fizzbuzz(number):\n",
    "    if number % 15 == 0:\n",
    "        return \"FizzBuzz\"\n",
    "    elif number % 5 == 0:\n",
    "        return \"Buzz\"\n",
    "    elif number % 3 == 0:\n",
    "        return \"Fizz\"\n",
    "    else:\n",
    "        return number\n",
    "\n",
    "\n",
    "[fizzbuzz(i) for i in range(1, 101)]"
   ]
  },
  {
   "cell_type": "code",
   "execution_count": 3,
   "metadata": {},
   "outputs": [],
   "source": [
    "# specify the number of binary digits, variable so we can change it.\n",
    "num_digits = 13"
   ]
  },
  {
   "cell_type": "code",
   "execution_count": 4,
   "metadata": {},
   "outputs": [
    {
     "data": {
      "text/plain": [
       "array([ 696, 4939, 1165, 2094, 3099, 1613, 6276, 2386, 3633,  448])"
      ]
     },
     "execution_count": 4,
     "metadata": {},
     "output_type": "execute_result"
    }
   ],
   "source": [
    "# Setup training data\n",
    "raw_training_data = np.random.randint(101, 2**num_digits, 2**num_digits-100)\n",
    "raw_training_data[:10]"
   ]
  },
  {
   "cell_type": "code",
   "execution_count": 5,
   "metadata": {},
   "outputs": [],
   "source": [
    "# Setup the one hot encoding for fizzbuzz\n",
    "def encode_fizz_buzz(x):\n",
    "    '''\n",
    "    1, 0, 0, 0 is fizzbuzz\n",
    "    0, 1, 0, 0 is fizz\n",
    "    0, 0, 1, 0 is buzz\n",
    "    0, 0, 0, 1 is the number itself\n",
    "    '''\n",
    "    if x % 5 == 0 and x % 3 == 0:\n",
    "        return np.array([1, 0, 0, 0])\n",
    "    elif x % 3 == 0:\n",
    "        return np.array([0, 1, 0, 0])\n",
    "    elif x % 5 == 0:\n",
    "        return np.array([0, 0, 1, 0])\n",
    "    else:\n",
    "        return np.array([0, 0, 0, 1])"
   ]
  },
  {
   "cell_type": "code",
   "execution_count": 6,
   "metadata": {},
   "outputs": [],
   "source": [
    "def decode_fizz_buzz(i, one_hot_fizz_buzz):\n",
    "    return ['fizzbuzz', 'fizz', 'buzz', str(i)][one_hot_fizz_buzz]"
   ]
  },
  {
   "cell_type": "code",
   "execution_count": 7,
   "metadata": {},
   "outputs": [],
   "source": [
    "## Binary Encoding function\n",
    "# In order to binary encode the input values\n",
    "def binary_encode(i, NUM_DIGITS):\n",
    "    return np.array([i >> d & 1 for d in range(NUM_DIGITS)])"
   ]
  },
  {
   "cell_type": "code",
   "execution_count": 8,
   "metadata": {},
   "outputs": [
    {
     "data": {
      "text/plain": [
       "[array([0, 0, 0, 1, 1, 1, 0, 1, 0, 1, 0, 0, 0]),\n",
       " array([1, 1, 0, 1, 0, 0, 1, 0, 1, 1, 0, 0, 1]),\n",
       " array([1, 0, 1, 1, 0, 0, 0, 1, 0, 0, 1, 0, 0]),\n",
       " array([0, 1, 1, 1, 0, 1, 0, 0, 0, 0, 0, 1, 0]),\n",
       " array([1, 1, 0, 1, 1, 0, 0, 0, 0, 0, 1, 1, 0])]"
      ]
     },
     "execution_count": 8,
     "metadata": {},
     "output_type": "execute_result"
    }
   ],
   "source": [
    "encoded_training_data = [binary_encode(i, num_digits) for i in raw_training_data]\n",
    "encoded_training_data[0:5]"
   ]
  },
  {
   "cell_type": "code",
   "execution_count": 9,
   "metadata": {},
   "outputs": [],
   "source": [
    "x_train = np.array(encoded_training_data)"
   ]
  },
  {
   "cell_type": "code",
   "execution_count": 10,
   "metadata": {},
   "outputs": [
    {
     "data": {
      "text/plain": [
       "array([0, 1, 0, 0])"
      ]
     },
     "execution_count": 10,
     "metadata": {},
     "output_type": "execute_result"
    }
   ],
   "source": [
    "y_train = np.array([encode_fizz_buzz(i) for i in raw_training_data])\n",
    "y_train[0]"
   ]
  },
  {
   "cell_type": "code",
   "execution_count": 11,
   "metadata": {},
   "outputs": [],
   "source": [
    "model = Sequential()"
   ]
  },
  {
   "cell_type": "code",
   "execution_count": 12,
   "metadata": {},
   "outputs": [],
   "source": [
    "model.add(Dense(1000, input_dim=num_digits, activation=\"relu\"))\n",
    "model.add(Dense(1000, activation=\"relu\"))\n",
    "model.add(Dense(4, activation=\"softmax\"))"
   ]
  },
  {
   "cell_type": "code",
   "execution_count": 13,
   "metadata": {},
   "outputs": [
    {
     "name": "stdout",
     "output_type": "stream",
     "text": [
      "Model: \"sequential_1\"\n",
      "_________________________________________________________________\n",
      "Layer (type)                 Output Shape              Param #   \n",
      "=================================================================\n",
      "dense_1 (Dense)              (None, 1000)              14000     \n",
      "_________________________________________________________________\n",
      "dense_2 (Dense)              (None, 1000)              1001000   \n",
      "_________________________________________________________________\n",
      "dense_3 (Dense)              (None, 4)                 4004      \n",
      "=================================================================\n",
      "Total params: 1,019,004\n",
      "Trainable params: 1,019,004\n",
      "Non-trainable params: 0\n",
      "_________________________________________________________________\n"
     ]
    }
   ],
   "source": [
    "model.summary()"
   ]
  },
  {
   "cell_type": "code",
   "execution_count": 14,
   "metadata": {},
   "outputs": [],
   "source": [
    "model.compile(loss='categorical_crossentropy', optimizer='adagrad', metrics=[\"accuracy\"])"
   ]
  },
  {
   "cell_type": "code",
   "execution_count": 15,
   "metadata": {},
   "outputs": [
    {
     "name": "stdout",
     "output_type": "stream",
     "text": [
      "Epoch 1/30\n",
      "8092/8092 [==============================] - 1s 185us/step - loss: 1.2357 - accuracy: 0.5177\n",
      "Epoch 2/30\n",
      "8092/8092 [==============================] - 1s 112us/step - loss: 1.1308 - accuracy: 0.5284\n",
      "Epoch 3/30\n",
      "8092/8092 [==============================] - 1s 98us/step - loss: 1.1173 - accuracy: 0.5287\n",
      "Epoch 4/30\n",
      "8092/8092 [==============================] - 1s 100us/step - loss: 1.0938 - accuracy: 0.5313\n",
      "Epoch 5/30\n",
      "8092/8092 [==============================] - 1s 120us/step - loss: 1.0576 - accuracy: 0.5372\n",
      "Epoch 6/30\n",
      "8092/8092 [==============================] - 1s 96us/step - loss: 1.0021 - accuracy: 0.5568\n",
      "Epoch 7/30\n",
      "8092/8092 [==============================] - 1s 99us/step - loss: 0.9242 - accuracy: 0.6024\n",
      "Epoch 8/30\n",
      "8092/8092 [==============================] - 1s 99us/step - loss: 0.8221 - accuracy: 0.6697\n",
      "Epoch 9/30\n",
      "8092/8092 [==============================] - 1s 93us/step - loss: 0.6941 - accuracy: 0.7490\n",
      "Epoch 10/30\n",
      "8092/8092 [==============================] - 1s 93us/step - loss: 0.5781 - accuracy: 0.8177\n",
      "Epoch 11/30\n",
      "8092/8092 [==============================] - 1s 94us/step - loss: 0.4718 - accuracy: 0.8702\n",
      "Epoch 12/30\n",
      "8092/8092 [==============================] - 1s 103us/step - loss: 0.3758 - accuracy: 0.9097\n",
      "Epoch 13/30\n",
      "8092/8092 [==============================] - 1s 98us/step - loss: 0.3052 - accuracy: 0.9390\n",
      "Epoch 14/30\n",
      "8092/8092 [==============================] - 1s 92us/step - loss: 0.2367 - accuracy: 0.9629\n",
      "Epoch 15/30\n",
      "8092/8092 [==============================] - 1s 90us/step - loss: 0.1934 - accuracy: 0.9738\n",
      "Epoch 16/30\n",
      "8092/8092 [==============================] - 1s 90us/step - loss: 0.1616 - accuracy: 0.9810\n",
      "Epoch 17/30\n",
      "8092/8092 [==============================] - 1s 91us/step - loss: 0.1494 - accuracy: 0.9784\n",
      "Epoch 18/30\n",
      "8092/8092 [==============================] - 1s 100us/step - loss: 0.1147 - accuracy: 0.9880\n",
      "Epoch 19/30\n",
      "8092/8092 [==============================] - 1s 101us/step - loss: 0.0991 - accuracy: 0.9905\n",
      "Epoch 20/30\n",
      "8092/8092 [==============================] - 1s 97us/step - loss: 0.0869 - accuracy: 0.9927\n",
      "Epoch 21/30\n",
      "8092/8092 [==============================] - 1s 99us/step - loss: 0.0770 - accuracy: 0.9942\n",
      "Epoch 22/30\n",
      "8092/8092 [==============================] - 1s 93us/step - loss: 0.0698 - accuracy: 0.9939\n",
      "Epoch 23/30\n",
      "8092/8092 [==============================] - 1s 94us/step - loss: 0.0604 - accuracy: 0.9959\n",
      "Epoch 24/30\n",
      "8092/8092 [==============================] - 1s 95us/step - loss: 0.0544 - accuracy: 0.9967\n",
      "Epoch 25/30\n",
      "8092/8092 [==============================] - 1s 94us/step - loss: 0.0492 - accuracy: 0.9969\n",
      "Epoch 26/30\n",
      "8092/8092 [==============================] - 1s 90us/step - loss: 0.0460 - accuracy: 0.9969\n",
      "Epoch 27/30\n",
      "8092/8092 [==============================] - 1s 91us/step - loss: 0.0414 - accuracy: 0.9979\n",
      "Epoch 28/30\n",
      "8092/8092 [==============================] - 1s 91us/step - loss: 0.0380 - accuracy: 0.9981\n",
      "Epoch 29/30\n",
      "8092/8092 [==============================] - 1s 96us/step - loss: 0.0346 - accuracy: 0.9983\n",
      "Epoch 30/30\n",
      "8092/8092 [==============================] - 1s 92us/step - loss: 0.0322 - accuracy: 0.9986\n"
     ]
    },
    {
     "data": {
      "text/plain": [
       "<keras.callbacks.callbacks.History at 0x1580171d0>"
      ]
     },
     "execution_count": 15,
     "metadata": {},
     "output_type": "execute_result"
    }
   ],
   "source": [
    "model.fit(x_train, y_train, nb_epoch=30, batch_size=128)"
   ]
  },
  {
   "cell_type": "code",
   "execution_count": 16,
   "metadata": {},
   "outputs": [
    {
     "data": {
      "text/plain": [
       "array([[1, 0, 0, 0, 0, 0, 0, 0, 0, 0, 0, 0, 0],\n",
       "       [0, 1, 0, 0, 0, 0, 0, 0, 0, 0, 0, 0, 0]])"
      ]
     },
     "execution_count": 16,
     "metadata": {},
     "output_type": "execute_result"
    }
   ],
   "source": [
    "numbers = np.arange(1, 101)\n",
    "x_test = np.transpose(binary_encode(numbers, num_digits))\n",
    "x_test[:2]"
   ]
  },
  {
   "cell_type": "code",
   "execution_count": 17,
   "metadata": {},
   "outputs": [],
   "source": [
    "y_test = model.predict_classes(x_test)"
   ]
  },
  {
   "cell_type": "code",
   "execution_count": 18,
   "metadata": {},
   "outputs": [],
   "source": [
    "predictions = np.vectorize(decode_fizz_buzz)(numbers, y_test)"
   ]
  },
  {
   "cell_type": "code",
   "execution_count": 19,
   "metadata": {},
   "outputs": [
    {
     "data": {
      "text/plain": [
       "array(['1', '2', 'fizz', '4', 'buzz', 'fizz', '7', '8', 'fizz', 'buzz',\n",
       "       '11', 'fizz', '13', '14', 'fizzbuzz', '16', '17', 'fizz', '19',\n",
       "       'buzz', 'fizz', '22', '23', 'fizz', 'buzz', '26', 'fizz', '28',\n",
       "       '29', 'fizzbuzz', '31', '32', 'fizz', '34', 'buzz', 'fizz', '37',\n",
       "       '38', 'fizz', 'buzz', '41', 'fizz', '43', '44', 'fizzbuzz', '46',\n",
       "       '47', 'fizz', '49', 'buzz', 'fizz', '52', '53', 'fizz', 'buzz',\n",
       "       '56', 'fizz', '58', '59', 'fizzbuzz', '61', '62', 'fizz', '64',\n",
       "       'buzz', 'fizz', '67', '68', 'fizz', 'buzz', '71', 'fizz', '73',\n",
       "       '74', 'fizzbuzz', '76', '77', 'fizz', '79', 'buzz', 'fizz', '82',\n",
       "       '83', 'fizz', 'buzz', '86', 'fizz', '88', '89', 'fizzbuzz', '91',\n",
       "       '92', 'fizz', '94', 'buzz', 'fizz', '97', '98', 'fizz', 'buzz'],\n",
       "      dtype='<U8')"
      ]
     },
     "execution_count": 19,
     "metadata": {},
     "output_type": "execute_result"
    }
   ],
   "source": [
    "predictions"
   ]
  },
  {
   "cell_type": "code",
   "execution_count": 20,
   "metadata": {},
   "outputs": [
    {
     "data": {
      "text/plain": [
       "array(['1.0', '2.0', 'Fizz', '4', 'Buzz', 'Fizz', '7', '8', 'Fizz',\n",
       "       'Buzz', '11', 'Fizz', '13', '14', 'FizzBuzz', '16', '17', 'Fizz',\n",
       "       '19', 'Buzz', 'Fizz', '22', '23', 'Fizz', 'Buzz', '26', 'Fizz',\n",
       "       '28', '29', 'FizzBuzz', '31', '32', 'Fizz', '34', 'Buzz', 'Fizz',\n",
       "       '37', '38', 'Fizz', 'Buzz', '41', 'Fizz', '43', '44', 'FizzBuzz',\n",
       "       '46', '47', 'Fizz', '49', 'Buzz', 'Fizz', '52', '53', 'Fizz',\n",
       "       'Buzz', '56', 'Fizz', '58', '59', 'FizzBuzz', '61', '62', 'Fizz',\n",
       "       '64', 'Buzz', 'Fizz', '67', '68', 'Fizz', 'Buzz', '71', 'Fizz',\n",
       "       '73', '74', 'FizzBuzz', '76', '77', 'Fizz', '79', 'Buzz', 'Fizz',\n",
       "       '82', '83', 'Fizz', 'Buzz', '86', 'Fizz', '88', '89', 'FizzBuzz',\n",
       "       '91', '92', 'Fizz', '94', 'Buzz', 'Fizz', '97', '98', 'Fizz',\n",
       "       'Buzz'], dtype='<U32')"
      ]
     },
     "execution_count": 20,
     "metadata": {},
     "output_type": "execute_result"
    }
   ],
   "source": [
    "answers = np.array([])\n",
    "for i in numbers:\n",
    "    if i % 15 == 0:\n",
    "        answers = np.append(answers, \"FizzBuzz\")\n",
    "    elif i % 5 == 0:\n",
    "        answers = np.append(answers, \"Buzz\")\n",
    "    elif i % 3 == 0:\n",
    "        answers = np.append(answers, \"Fizz\")\n",
    "    else:\n",
    "        answers = np.append(answers, i)\n",
    "answers"
   ]
  },
  {
   "cell_type": "code",
   "execution_count": 21,
   "metadata": {},
   "outputs": [
    {
     "name": "stdout",
     "output_type": "stream",
     "text": [
      "0.51\n"
     ]
    }
   ],
   "source": [
    "evaluate = np.array(answers == predictions)\n",
    "print(np.count_nonzero(evaluate == True) / 100)"
   ]
  }
 ],
 "metadata": {
  "kernelspec": {
   "display_name": "Python 3",
   "language": "python",
   "name": "python3"
  },
  "language_info": {
   "codemirror_mode": {
    "name": "ipython",
    "version": 3
   },
   "file_extension": ".py",
   "mimetype": "text/x-python",
   "name": "python",
   "nbconvert_exporter": "python",
   "pygments_lexer": "ipython3",
   "version": "3.7.4"
  }
 },
 "nbformat": 4,
 "nbformat_minor": 4
}
